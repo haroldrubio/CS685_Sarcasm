{
  "nbformat": 4,
  "nbformat_minor": 0,
  "metadata": {
    "colab": {
      "name": "ablation_emo_vecs.ipynb",
      "provenance": []
    },
    "kernelspec": {
      "name": "python3",
      "display_name": "Python 3"
    }
  },
  "cells": [
    {
      "cell_type": "code",
      "metadata": {
        "colab": {
          "base_uri": "https://localhost:8080/"
        },
        "id": "KT1jE7dC9d2E",
        "outputId": "f9b9f887-c8b5-40fd-c6f6-1059bc148f1b"
      },
      "source": [
        "from google.colab import drive\n",
        "drive.mount('/content/drive')"
      ],
      "execution_count": 1,
      "outputs": [
        {
          "output_type": "stream",
          "text": [
            "Drive already mounted at /content/drive; to attempt to forcibly remount, call drive.mount(\"/content/drive\", force_remount=True).\n"
          ],
          "name": "stdout"
        }
      ]
    },
    {
      "cell_type": "code",
      "metadata": {
        "id": "G1_Z7uQp-SwP"
      },
      "source": [
        "def process_data(file_name):\n",
        "  x, y = [], []\n",
        "  f = open('/content/drive/MyDrive/data/' + file_name, encoding='utf-8')\n",
        "  for line in f:\n",
        "    _, label, sentence = line.split(\" \", 2)\n",
        "    x.append(sentence.rstrip('\\n'))\n",
        "    y.append(label)\n",
        "  f.close()\n",
        "  x = np.asarray(x)\n",
        "  y = np.asarray(y,dtype=float)\n",
        "  return x, y"
      ],
      "execution_count": 2,
      "outputs": []
    },
    {
      "cell_type": "code",
      "metadata": {
        "id": "NeEPvRkR987T"
      },
      "source": [
        "import numpy as np\n",
        "\n",
        "emo_vecs = np.load('/content/drive/MyDrive/data/emo_vecs.npy').astype(float)\n",
        "\n",
        "# load sarcasm data\n",
        "x_tr, y_tr = process_data('train_main.txt')\n",
        "x_te, y_te = process_data('test_main.txt')"
      ],
      "execution_count": 3,
      "outputs": []
    },
    {
      "cell_type": "code",
      "metadata": {
        "colab": {
          "base_uri": "https://localhost:8080/"
        },
        "id": "_28orXib-p7Y",
        "outputId": "d1e6ec27-0c63-476c-80fd-1041067cfe09"
      },
      "source": [
        "print(emo_vecs.shape)\n",
        "\n",
        "# print(x_tr.shape)\n",
        "# print(x_te.shape)\n",
        "# print(x_tr.shape[0] + x_te.shape[0])\n",
        "\n",
        "# emo_vecs contains training data and test data --> split into train, val, test\n",
        "N = x_tr.shape[0]\n",
        "emo_tr = emo_vecs[:N]\n",
        "M = round(x_te.shape[0]/2)\n",
        "emo_val = emo_vecs[N:N+M]\n",
        "emo_tr_val = np.concatenate((emo_tr,emo_val))\n",
        "emo_te = emo_vecs[N+M:]\n",
        "\n",
        "print(emo_tr.shape)\n",
        "print(emo_val.shape, emo_te.shape)\n",
        "print(emo_tr_val.shape)\n",
        "\n",
        "# split y_te into validation and test set\n",
        "y_val = y_te[:M]\n",
        "y_tr_val = np.concatenate((y_tr,y_val))\n",
        "y_te = y_te[M:]\n",
        "print(y_val.shape, y_te.shape)\n",
        "print(y_tr_val.shape)"
      ],
      "execution_count": 5,
      "outputs": [
        {
          "output_type": "stream",
          "text": [
            "(321748, 6)\n",
            "(257082, 6)\n",
            "(32333, 6) (32333, 6)\n",
            "(289415, 6)\n",
            "(32333,) (32333,)\n",
            "(289415,)\n"
          ],
          "name": "stdout"
        }
      ]
    },
    {
      "cell_type": "code",
      "metadata": {
        "id": "a_lERvhg_H1h"
      },
      "source": [
        "import torch\n",
        "\n",
        "class NN():\n",
        "  def __init__(self, h_size=100):\n",
        "    self.model = torch.nn.Sequential(\n",
        "        torch.nn.Linear(6, h_size),\n",
        "        torch.nn.ReLU(),\n",
        "        torch.nn.Linear(h_size, 2),\n",
        "        torch.nn.Softmax(dim=1)\n",
        "    )\n",
        "\n",
        "  def predict(self, X):\n",
        "    x = torch.from_numpy(X).float()\n",
        "    out = self.model(x)\n",
        "    y_pred = torch.argmax(out, dim=1).detach().numpy() # predict 0 or 1    \n",
        "    return y_pred\n",
        "  \n",
        "  def fit(self, X, Y, epochs=200, step=1e-3, decay=5e-4):\n",
        "    optimizer = torch.optim.Adam(params=self.model.parameters(), lr=step, weight_decay=decay)       \n",
        "    loss_fn = torch.nn.CrossEntropyLoss()\n",
        "    x = torch.from_numpy(X).float()\n",
        "    y = torch.from_numpy(Y).long()\n",
        "\n",
        "    print('h_size: {}\\tdecay: {}'.format(h_size, decay))\n",
        "    start_time = timeit.default_timer()\n",
        "    for i in range(1,epochs+1):\n",
        "      # forward pass\n",
        "      out = self.model(x)\n",
        "      # compute loss\n",
        "      loss = loss_fn(out, y)\n",
        "      # zero gradients before backward pass\n",
        "      optimizer.zero_grad()\n",
        "      # backward pass\n",
        "      loss.backward()\n",
        "      # update model parameters\n",
        "      optimizer.step()\n",
        "\n",
        "      elapsed_time = timeit.default_timer() - start_time\n",
        "      if i%10 == 0:\n",
        "          print('epoch {}/{} \\tloss: {} \\telapsed time: {:.3f}'.format(i, epochs, loss.item(), elapsed_time))"
      ],
      "execution_count": 13,
      "outputs": []
    },
    {
      "cell_type": "code",
      "metadata": {
        "colab": {
          "base_uri": "https://localhost:8080/"
        },
        "id": "8MlvLqOB_gvY",
        "outputId": "fd9052c4-847b-424c-d5a5-ed7ce82ad319"
      },
      "source": [
        "import timeit\n",
        "\n",
        "h_size = 200\n",
        "decay = 5e-4\n",
        "step = 1e-3\n",
        "epochs = 200\n",
        "\n",
        "model = NN(h_size=h_size)\n",
        "model.fit(emo_tr,y_tr,epochs=epochs,step=step,decay=decay)"
      ],
      "execution_count": 16,
      "outputs": [
        {
          "output_type": "stream",
          "text": [
            "h_size: 200\tdecay: 0.0005\n",
            "epoch 10/200 \tloss: 0.6935808062553406 \telapsed time: 4.563\n",
            "epoch 20/200 \tloss: 0.693896472454071 \telapsed time: 9.086\n",
            "epoch 30/200 \tloss: 0.692541241645813 \telapsed time: 13.700\n",
            "epoch 40/200 \tloss: 0.6926780939102173 \telapsed time: 18.275\n",
            "epoch 50/200 \tloss: 0.6927775144577026 \telapsed time: 22.807\n",
            "epoch 60/200 \tloss: 0.6924811601638794 \telapsed time: 27.345\n",
            "epoch 70/200 \tloss: 0.6926854252815247 \telapsed time: 31.896\n",
            "epoch 80/200 \tloss: 0.692669689655304 \telapsed time: 36.435\n",
            "epoch 90/200 \tloss: 0.692686140537262 \telapsed time: 40.974\n",
            "epoch 100/200 \tloss: 0.692670464515686 \telapsed time: 45.513\n",
            "epoch 110/200 \tloss: 0.6926088929176331 \telapsed time: 50.055\n",
            "epoch 120/200 \tloss: 0.6925734281539917 \telapsed time: 54.624\n",
            "epoch 130/200 \tloss: 0.6925066113471985 \telapsed time: 59.147\n",
            "epoch 140/200 \tloss: 0.6924343109130859 \telapsed time: 63.679\n",
            "epoch 150/200 \tloss: 0.6924031376838684 \telapsed time: 68.198\n",
            "epoch 160/200 \tloss: 0.6923456788063049 \telapsed time: 72.718\n",
            "epoch 170/200 \tloss: 0.6922787427902222 \telapsed time: 77.242\n",
            "epoch 180/200 \tloss: 0.6922540068626404 \telapsed time: 81.779\n",
            "epoch 190/200 \tloss: 0.6922004818916321 \telapsed time: 86.323\n",
            "epoch 200/200 \tloss: 0.69214928150177 \telapsed time: 90.885\n"
          ],
          "name": "stdout"
        }
      ]
    },
    {
      "cell_type": "code",
      "metadata": {
        "colab": {
          "base_uri": "https://localhost:8080/"
        },
        "id": "h1k-vRzBAPo7",
        "outputId": "7dc6f403-14a2-4696-954a-1e9ec5a22b66"
      },
      "source": [
        "from sklearn.metrics import accuracy_score\n",
        "from sklearn.metrics import f1_score\n",
        "from sklearn.metrics import precision_score\n",
        "\n",
        "y_pred = model.predict(emo_val)\n",
        "print('accuracy: ', accuracy_score(y_pred, y_val))\n",
        "print('f1: ', f1_score(y_pred, y_val))\n",
        "print('precision: ', precision_score(y_pred, y_val))"
      ],
      "execution_count": 17,
      "outputs": [
        {
          "output_type": "stream",
          "text": [
            "accuracy:  0.5284693656635635\n",
            "f1:  0.5699779996615332\n",
            "precision:  0.6249768046019669\n"
          ],
          "name": "stdout"
        }
      ]
    },
    {
      "cell_type": "code",
      "metadata": {
        "colab": {
          "base_uri": "https://localhost:8080/"
        },
        "id": "ed_Y3c24Bh7q",
        "outputId": "20de79fd-17ca-47c5-c423-980a71828fef"
      },
      "source": [
        "# retrain model on train+val set\n",
        "\n",
        "model = NN(h_size=h_size)\n",
        "model.fit(emo_tr_val, y_tr_val)"
      ],
      "execution_count": 18,
      "outputs": [
        {
          "output_type": "stream",
          "text": [
            "h_size: 200\tdecay: 0.0005\n",
            "epoch 10/200 \tloss: 0.6934453248977661 \telapsed time: 5.207\n",
            "epoch 20/200 \tloss: 0.6926261782646179 \telapsed time: 10.316\n",
            "epoch 30/200 \tloss: 0.6926724314689636 \telapsed time: 15.431\n",
            "epoch 40/200 \tloss: 0.6928812861442566 \telapsed time: 20.531\n",
            "epoch 50/200 \tloss: 0.692765474319458 \telapsed time: 25.645\n",
            "epoch 60/200 \tloss: 0.6928519606590271 \telapsed time: 30.758\n",
            "epoch 70/200 \tloss: 0.692750096321106 \telapsed time: 35.850\n",
            "epoch 80/200 \tloss: 0.6926742196083069 \telapsed time: 40.936\n",
            "epoch 90/200 \tloss: 0.6926004886627197 \telapsed time: 46.032\n",
            "epoch 100/200 \tloss: 0.692500114440918 \telapsed time: 51.133\n",
            "epoch 110/200 \tloss: 0.6924343109130859 \telapsed time: 56.259\n",
            "epoch 120/200 \tloss: 0.6923749446868896 \telapsed time: 61.353\n",
            "epoch 130/200 \tloss: 0.6922917366027832 \telapsed time: 66.458\n",
            "epoch 140/200 \tloss: 0.692272961139679 \telapsed time: 71.549\n",
            "epoch 150/200 \tloss: 0.692196786403656 \telapsed time: 76.671\n",
            "epoch 160/200 \tloss: 0.6921823620796204 \telapsed time: 81.792\n",
            "epoch 170/200 \tloss: 0.6921294331550598 \telapsed time: 86.953\n",
            "epoch 180/200 \tloss: 0.6921303868293762 \telapsed time: 92.113\n",
            "epoch 190/200 \tloss: 0.6921049356460571 \telapsed time: 97.312\n",
            "epoch 200/200 \tloss: 0.6920839548110962 \telapsed time: 102.426\n"
          ],
          "name": "stdout"
        }
      ]
    },
    {
      "cell_type": "code",
      "metadata": {
        "colab": {
          "base_uri": "https://localhost:8080/"
        },
        "id": "Of20T3qpFEwB",
        "outputId": "698ccd56-f32f-482d-dff1-715cd0be3ce9"
      },
      "source": [
        "y_pred = model.predict(emo_te)\n",
        "print('accuracy: ', accuracy_score(y_pred, y_te))\n",
        "print('f1: ', f1_score(y_pred, y_te))\n",
        "print('precision: ', precision_score(y_pred, y_te))"
      ],
      "execution_count": 19,
      "outputs": [
        {
          "output_type": "stream",
          "text": [
            "accuracy:  0.5243868493489624\n",
            "f1:  0.564411964649898\n",
            "precision:  0.6162934554002227\n"
          ],
          "name": "stdout"
        }
      ]
    },
    {
      "cell_type": "code",
      "metadata": {
        "id": "ydC97iAsFKNm"
      },
      "source": [
        ""
      ],
      "execution_count": null,
      "outputs": []
    }
  ]
}